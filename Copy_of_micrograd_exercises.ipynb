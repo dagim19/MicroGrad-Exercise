{
  "nbformat": 4,
  "nbformat_minor": 0,
  "metadata": {
    "colab": {
      "provenance": [],
      "collapsed_sections": [],
      "include_colab_link": true
    },
    "kernelspec": {
      "name": "python3",
      "display_name": "Python 3"
    },
    "language_info": {
      "name": "python"
    }
  },
  "cells": [
    {
      "cell_type": "markdown",
      "metadata": {
        "id": "view-in-github",
        "colab_type": "text"
      },
      "source": [
        "<a href=\"https://colab.research.google.com/github/dagim19/MicroGrad-Exercise/blob/main/Copy_of_micrograd_exercises.ipynb\" target=\"_parent\"><img src=\"https://colab.research.google.com/assets/colab-badge.svg\" alt=\"Open In Colab\"/></a>"
      ]
    },
    {
      "cell_type": "markdown",
      "source": [
        "# micrograd exercises\n",
        "\n",
        "1. watch the [micrograd video](https://www.youtube.com/watch?v=VMj-3S1tku0) on YouTube\n",
        "2. come back and complete these exercises to level up :)"
      ],
      "metadata": {
        "id": "JnGHatCI51JP"
      }
    },
    {
      "cell_type": "code",
      "source": [
        "!pip install graphviz"
      ],
      "metadata": {
        "colab": {
          "base_uri": "https://localhost:8080/"
        },
        "id": "4x7hmU4vWsSf",
        "outputId": "bebd8678-35c8-42c4-f37d-21ad06e9d082"
      },
      "execution_count": null,
      "outputs": [
        {
          "output_type": "stream",
          "name": "stdout",
          "text": [
            "Looking in indexes: https://pypi.org/simple, https://us-python.pkg.dev/colab-wheels/public/simple/\n",
            "Requirement already satisfied: graphviz in /usr/local/lib/python3.7/dist-packages (0.10.1)\n"
          ]
        }
      ]
    },
    {
      "cell_type": "markdown",
      "source": [
        "## section 1: derivatives"
      ],
      "metadata": {
        "id": "OFt6NKOz6iBZ"
      }
    },
    {
      "cell_type": "code",
      "source": [
        "# here is a mathematical expression that takes 3 inputs and produces one output\n",
        "from math import sin, cos, sqrt\n",
        "\n",
        "def f(a, b, c):\n",
        "  return -a**3 + sin(3*b) - 1.0/c + b**2.5 - a**0.5\n",
        "\n",
        "print(f(2, 3, 4))"
      ],
      "metadata": {
        "id": "3Jx9fCXl5xHd",
        "colab": {
          "base_uri": "https://localhost:8080/"
        },
        "outputId": "483b2ae6-3bb7-45c2-81df-5da5b655446d"
      },
      "execution_count": null,
      "outputs": [
        {
          "output_type": "stream",
          "name": "stdout",
          "text": [
            "6.336362190988558\n"
          ]
        }
      ]
    },
    {
      "cell_type": "code",
      "source": [
        "# write the function df that returns the analytical gradient of f\n",
        "# i.e. use your skills from calculus to take the derivative, then implement the formula\n",
        "# if you do not calculus then feel free to ask wolframalpha, e.g.:\n",
        "# https://www.wolframalpha.com/input?i=d%2Fda%28sin%283*a%29%29%29\n",
        "\n",
        "def gradf(a, b, c):\n",
        "  dfda = -3*a**2 - 1/(2*sqrt(a))\n",
        "  dfdb = 3*cos(3*b) + 2.5*b**1.5\n",
        "  dfdc = c**-2\n",
        "  return [dfda, dfdb, dfdc] # todo, return [df/da, df/db, df/dc]\n",
        "\n",
        "# expected answer is the list of \n",
        "ans = [-12.353553390593273, 10.25699027111255, 0.0625]\n",
        "yours = gradf(2, 3, 4)\n",
        "print(yours)\n",
        "for dim in range(3):\n",
        "  ok = 'OK' if abs(yours[dim] - ans[dim]) < 1e-5 else 'WRONG!'\n",
        "  print(f\"{ok} for dim {dim}: expected {ans[dim]}, yours returns {yours[dim]}\")\n"
      ],
      "metadata": {
        "id": "qXaH59eL9zxf",
        "colab": {
          "base_uri": "https://localhost:8080/"
        },
        "outputId": "c386c9cd-e96a-4c2e-d4ea-e9741191699d"
      },
      "execution_count": null,
      "outputs": [
        {
          "output_type": "stream",
          "name": "stdout",
          "text": [
            "[-12.353553390593273, 10.25699027111255, 0.0625]\n",
            "OK for dim 0: expected -12.353553390593273, yours returns -12.353553390593273\n",
            "OK for dim 1: expected 10.25699027111255, yours returns 10.25699027111255\n",
            "OK for dim 2: expected 0.0625, yours returns 0.0625\n"
          ]
        }
      ]
    },
    {
      "cell_type": "code",
      "source": [
        "# now estimate the gradient numerically without any calculus, using\n",
        "# the approximation we used in the video.\n",
        "# you should not call the function df from the last cell\n",
        "\n",
        "h = 0.000001\n",
        "a = 2\n",
        "b = 3\n",
        "c = 4\n",
        "fa = f(a, b, c)\n",
        "dfda = (f(a+h, b, c) - f(a, b, c)) / h\n",
        "dfdb = (f(a, b + h, c) - f(a, b, c)) / h\n",
        "dfdc = (f(a, b, c + h) - f(a, b, c)) / h\n",
        "# -----------\n",
        "numerical_grad = [dfda, dfdb, dfdc] # TODO\n",
        "# -----------\n",
        "\n",
        "for dim in range(3):\n",
        "  ok = 'OK' if abs(numerical_grad[dim] - ans[dim]) < 1e-5 else 'WRONG!'\n",
        "  print(f\"{ok} for dim {dim}: expected {ans[dim]}, yours returns {numerical_grad[dim]}\")\n"
      ],
      "metadata": {
        "id": "_27n-KTA9Qla",
        "colab": {
          "base_uri": "https://localhost:8080/"
        },
        "outputId": "94b9b23c-8de4-40e3-a74e-f8400f7bc04c"
      },
      "execution_count": null,
      "outputs": [
        {
          "output_type": "stream",
          "name": "stdout",
          "text": [
            "OK for dim 0: expected -12.353553390593273, yours returns -12.353559348809995\n",
            "OK for dim 1: expected 10.25699027111255, yours returns 10.256991666679482\n",
            "OK for dim 2: expected 0.0625, yours returns 0.062499984743169534\n"
          ]
        }
      ]
    },
    {
      "cell_type": "code",
      "source": [
        "# there is an alternative formula that provides a much better numerical \n",
        "# approximation to the derivative of a function.\n",
        "# learn about it here: https://en.wikipedia.org/wiki/Symmetric_derivative\n",
        "# implement it. confirm that for the same step size h this version gives a\n",
        "# better approximation.\n",
        "\n",
        "h = 0.000001\n",
        "a = 2\n",
        "b = 3\n",
        "c = 4\n",
        "fa = f(a, b, c)\n",
        "dfda = (f(a+h, b, c) - f(a-h, b, c)) / (2*h)\n",
        "dfdb = (f(a, b+h, c) - f(a, b-h, c)) / (2*h)\n",
        "dfdc = (f(a, b, c+h) - f(a, b, c-h)) / (2*h)\n",
        "\n",
        "\n",
        "# -----------\n",
        "numerical_grad2 = [dfda, dfdb, dfdc] # TODO\n",
        "# -----------\n",
        "\n",
        "for dim in range(3):\n",
        "  ok = 'OK' if abs(numerical_grad2[dim] - ans[dim]) < 1e-5 else 'WRONG!'\n",
        "  print(f\"{ok} for dim {dim}: expected {ans[dim]}, yours returns {numerical_grad2[dim]}\")\n"
      ],
      "metadata": {
        "id": "BUqsGb5o_h2P",
        "colab": {
          "base_uri": "https://localhost:8080/"
        },
        "outputId": "94035e7a-e141-4a8c-ae0e-67303438e8bd"
      },
      "execution_count": null,
      "outputs": [
        {
          "output_type": "stream",
          "name": "stdout",
          "text": [
            "OK for dim 0: expected -12.353553390593273, yours returns -12.353553391353245\n",
            "OK for dim 1: expected 10.25699027111255, yours returns 10.25699027401572\n",
            "OK for dim 2: expected 0.0625, yours returns 0.06250000028629188\n"
          ]
        }
      ]
    },
    {
      "cell_type": "markdown",
      "source": [
        "## section 2: support for softmax"
      ],
      "metadata": {
        "id": "tklF9s_4AtlI"
      }
    },
    {
      "cell_type": "code",
      "source": [
        "# Value class starter code, with many functions taken out\n",
        "from math import exp, log\n",
        "\n",
        "class Value:\n",
        "  \n",
        "  def __init__(self, data, _children=(), _op='', label=''):\n",
        "    self.data = data\n",
        "    self.grad = 0.0\n",
        "    self._backward = lambda: None\n",
        "    self._prev = set(_children)\n",
        "    self._op = _op\n",
        "    self.label = label\n",
        "\n",
        "  def __repr__(self):\n",
        "    return f\"Value(data={self.data})\"\n",
        "  \n",
        "  def __add__(self, other): # exactly as in the video\n",
        "    other = other if isinstance(other, Value) else Value(other)\n",
        "    out = Value(self.data + other.data, (self, other), '+')\n",
        "    \n",
        "    def _backward():\n",
        "      self.grad += 1.0 * out.grad\n",
        "      other.grad += 1.0 * out.grad\n",
        "    out._backward = _backward\n",
        "    \n",
        "    return out\n",
        "\n",
        "  def __radd__(self, other):\n",
        "    other = other if isinstance(other, Value) else Value(other)\n",
        "    out = Value(self.data + other.data, (self, other), '+')\n",
        "\n",
        "    def _backward():\n",
        "      self.grad += 1.0 * out.grad\n",
        "      other.grad += 1.0 * out.grad\n",
        "    \n",
        "    out._backward = _backward\n",
        "    \n",
        "    return out\n",
        "\n",
        "  def __mul__(self, other):\n",
        "    other = other if isinstance(other, Value) else Value(other)\n",
        "    out = Value(self.data * other.data, (self, other), '*')\n",
        "\n",
        "    def _backward():\n",
        "      self.grad += other.data * out.grad\n",
        "      other.grad += self.data * out.grad\n",
        "\n",
        "    out._backward = _backward\n",
        "\n",
        "    return out\n",
        "\n",
        "  def __rmul__(self, other):\n",
        "    other = Value(other)\n",
        "    return self.__mul__(other)\n",
        "\n",
        "  def __pow__(self, other):\n",
        "    out = Value(self.data**other, (self,), 'pow')\n",
        "\n",
        "    def _backward():\n",
        "      self.grad += other * self.data**(other-1) * out.grad\n",
        "\n",
        "    out._backward = _backward\n",
        "\n",
        "    return out\n",
        "\n",
        "  def __truediv__(self, other):\n",
        "    out = self*(other**-1)\n",
        "    \n",
        "    return out\n",
        "\n",
        "  def exp(self):\n",
        "    out = Value(exp(self.data), (self,), 'exp')\n",
        "\n",
        "    def _backward():\n",
        "      self.grad += out.data\n",
        "      \n",
        "    out._backward = _backward\n",
        "\n",
        "    return out\n",
        "\n",
        "  def log(self):\n",
        "    out = Value(log(self.data), (self,), 'log')\n",
        "\n",
        "    def _backward():\n",
        "      self.grad += (1/self.data) * out.grad\n",
        "\n",
        "    out._backward = _backward\n",
        "\n",
        "    return out\n",
        "\n",
        "  # ------\n",
        "  # re-implement all the other functions needed for the exercises below\n",
        "  # your code here\n",
        "  # TODO\n",
        "  # ------\n",
        "\n",
        "  def backward(self): # exactly as in video  \n",
        "    topo = []\n",
        "    visited = set()\n",
        "    def build_topo(v):\n",
        "      if v not in visited:\n",
        "        visited.add(v)\n",
        "        for child in v._prev:\n",
        "          build_topo(child)\n",
        "        topo.append(v)\n",
        "    build_topo(self)\n",
        "    \n",
        "    self.grad = 1.0\n",
        "    for node in reversed(topo):\n",
        "      node._backward()"
      ],
      "metadata": {
        "id": "nAPe_RVrCTeO"
      },
      "execution_count": null,
      "outputs": []
    },
    {
      "cell_type": "code",
      "source": [
        "from graphviz import Digraph\n",
        "\n",
        "def trace(root):\n",
        "    nodes, edges = set(), set()\n",
        "    def build(v):\n",
        "        if v not in nodes:\n",
        "            nodes.add(v)\n",
        "            for child in v._prev:\n",
        "                edges.add((child, v))\n",
        "                build(child)\n",
        "    build(root)\n",
        "    return nodes, edges\n",
        "\n",
        "def draw_dot(root, format='svg', rankdir='LR'):\n",
        "    \"\"\"\n",
        "    format: png | svg | ...\n",
        "    rankdir: TB (top to bottom graph) | LR (left to right)\n",
        "    \"\"\"\n",
        "    assert rankdir in ['LR', 'TB']\n",
        "    nodes, edges = trace(root)\n",
        "    dot = Digraph(format=format, graph_attr={'rankdir': rankdir}) #, node_attr={'rankdir': 'TB'})\n",
        "    \n",
        "    for n in nodes:\n",
        "        dot.node(name=str(id(n)), label = \"{ data %.4f | grad %.4f }\" % (n.data, n.grad), shape='record')\n",
        "        if n._op:\n",
        "            dot.node(name=str(id(n)) + n._op, label=n._op)\n",
        "            dot.edge(str(id(n)) + n._op, str(id(n)))\n",
        "    \n",
        "    for n1, n2 in edges:\n",
        "        dot.edge(str(id(n1)), str(id(n2)) + n2._op)\n",
        "    \n",
        "    return dot"
      ],
      "metadata": {
        "id": "TpQ67Ryr_v7b"
      },
      "execution_count": null,
      "outputs": []
    },
    {
      "cell_type": "code",
      "source": [
        "a = Value(2.0)\n",
        "b = Value(2.0)\n",
        "c = a*b\n",
        "d = Value(3.0)\n",
        "e = c + d\n",
        "f = e**2\n",
        "g = e + f\n",
        "g.backward()\n",
        "draw_dot(g)"
      ],
      "metadata": {
        "id": "mBUCpB69AgSK",
        "outputId": "d669202b-7594-4485-b210-b317f1f68ba7",
        "colab": {
          "base_uri": "https://localhost:8080/",
          "height": 211
        }
      },
      "execution_count": null,
      "outputs": [
        {
          "output_type": "execute_result",
          "data": {
            "text/plain": [
              "<graphviz.dot.Digraph at 0x7ff56a3b8d10>"
            ],
            "image/svg+xml": "<?xml version=\"1.0\" encoding=\"UTF-8\" standalone=\"no\"?>\n<!DOCTYPE svg PUBLIC \"-//W3C//DTD SVG 1.1//EN\"\n \"http://www.w3.org/Graphics/SVG/1.1/DTD/svg11.dtd\">\n<!-- Generated by graphviz version 2.40.1 (20161225.0304)\n -->\n<!-- Title: %3 Pages: 1 -->\n<svg width=\"1411pt\" height=\"127pt\"\n viewBox=\"0.00 0.00 1410.60 127.00\" xmlns=\"http://www.w3.org/2000/svg\" xmlns:xlink=\"http://www.w3.org/1999/xlink\">\n<g id=\"graph0\" class=\"graph\" transform=\"scale(1 1) rotate(0) translate(4 123)\">\n<title>%3</title>\n<polygon fill=\"#ffffff\" stroke=\"transparent\" points=\"-4,4 -4,-123 1406.5952,-123 1406.5952,4 -4,4\"/>\n<!-- 140692026001936 -->\n<g id=\"node1\" class=\"node\">\n<title>140692026001936</title>\n<polygon fill=\"none\" stroke=\"#000000\" points=\"918.5952,-78.5 918.5952,-114.5 1097.5952,-114.5 1097.5952,-78.5 918.5952,-78.5\"/>\n<text text-anchor=\"middle\" x=\"964.5952\" y=\"-92.8\" font-family=\"Times,serif\" font-size=\"14.00\" fill=\"#000000\">data 49.0000</text>\n<polyline fill=\"none\" stroke=\"#000000\" points=\"1010.5952,-78.5 1010.5952,-114.5 \"/>\n<text text-anchor=\"middle\" x=\"1054.0952\" y=\"-92.8\" font-family=\"Times,serif\" font-size=\"14.00\" fill=\"#000000\">grad 1.0000</text>\n</g>\n<!-- 140692026002192+ -->\n<g id=\"node6\" class=\"node\">\n<title>140692026002192+</title>\n<ellipse fill=\"none\" stroke=\"#000000\" cx=\"1160.5952\" cy=\"-72.5\" rx=\"27\" ry=\"18\"/>\n<text text-anchor=\"middle\" x=\"1160.5952\" y=\"-68.8\" font-family=\"Times,serif\" font-size=\"14.00\" fill=\"#000000\">+</text>\n</g>\n<!-- 140692026001936&#45;&gt;140692026002192+ -->\n<g id=\"edge8\" class=\"edge\">\n<title>140692026001936&#45;&gt;140692026002192+</title>\n<path fill=\"none\" stroke=\"#000000\" d=\"M1097.6871,-82.4003C1106.8834,-80.953 1115.8125,-79.5478 1123.9165,-78.2724\"/>\n<polygon fill=\"#000000\" stroke=\"#000000\" points=\"1124.7138,-81.6901 1134.048,-76.6779 1123.6255,-74.7752 1124.7138,-81.6901\"/>\n</g>\n<!-- 140692026001936pow -->\n<g id=\"node2\" class=\"node\">\n<title>140692026001936pow</title>\n<ellipse fill=\"none\" stroke=\"#000000\" cx=\"855.2976\" cy=\"-95.5\" rx=\"27.0966\" ry=\"18\"/>\n<text text-anchor=\"middle\" x=\"855.2976\" y=\"-91.8\" font-family=\"Times,serif\" font-size=\"14.00\" fill=\"#000000\">pow</text>\n</g>\n<!-- 140692026001936pow&#45;&gt;140692026001936 -->\n<g id=\"edge1\" class=\"edge\">\n<title>140692026001936pow&#45;&gt;140692026001936</title>\n<path fill=\"none\" stroke=\"#000000\" d=\"M882.6147,-95.6788C890.2424,-95.7287 899.002,-95.786 908.2709,-95.8467\"/>\n<polygon fill=\"#000000\" stroke=\"#000000\" points=\"908.4764,-99.348 918.4991,-95.9136 908.5223,-92.3482 908.4764,-99.348\"/>\n</g>\n<!-- 140692026001040 -->\n<g id=\"node3\" class=\"node\">\n<title>140692026001040</title>\n<polygon fill=\"none\" stroke=\"#000000\" points=\"0,-55.5 0,-91.5 180,-91.5 180,-55.5 0,-55.5\"/>\n<text text-anchor=\"middle\" x=\"42.5\" y=\"-69.8\" font-family=\"Times,serif\" font-size=\"14.00\" fill=\"#000000\">data 2.0000</text>\n<polyline fill=\"none\" stroke=\"#000000\" points=\"85,-55.5 85,-91.5 \"/>\n<text text-anchor=\"middle\" x=\"132.5\" y=\"-69.8\" font-family=\"Times,serif\" font-size=\"14.00\" fill=\"#000000\">grad 30.0000</text>\n</g>\n<!-- 140692026001360* -->\n<g id=\"node11\" class=\"node\">\n<title>140692026001360*</title>\n<ellipse fill=\"none\" stroke=\"#000000\" cx=\"243\" cy=\"-45.5\" rx=\"27\" ry=\"18\"/>\n<text text-anchor=\"middle\" x=\"243\" y=\"-41.8\" font-family=\"Times,serif\" font-size=\"14.00\" fill=\"#000000\">*</text>\n</g>\n<!-- 140692026001040&#45;&gt;140692026001360* -->\n<g id=\"edge10\" class=\"edge\">\n<title>140692026001040&#45;&gt;140692026001360*</title>\n<path fill=\"none\" stroke=\"#000000\" d=\"M180.3276,-56.9695C189.6986,-55.2545 198.7833,-53.5919 206.9937,-52.0894\"/>\n<polygon fill=\"#000000\" stroke=\"#000000\" points=\"207.6752,-55.5229 216.8817,-50.2798 206.415,-48.6372 207.6752,-55.5229\"/>\n</g>\n<!-- 140692026373072 -->\n<g id=\"node4\" class=\"node\">\n<title>140692026373072</title>\n<polygon fill=\"none\" stroke=\"#000000\" points=\"0,-.5 0,-36.5 180,-36.5 180,-.5 0,-.5\"/>\n<text text-anchor=\"middle\" x=\"42.5\" y=\"-14.8\" font-family=\"Times,serif\" font-size=\"14.00\" fill=\"#000000\">data 2.0000</text>\n<polyline fill=\"none\" stroke=\"#000000\" points=\"85,-.5 85,-36.5 \"/>\n<text text-anchor=\"middle\" x=\"132.5\" y=\"-14.8\" font-family=\"Times,serif\" font-size=\"14.00\" fill=\"#000000\">grad 30.0000</text>\n</g>\n<!-- 140692026373072&#45;&gt;140692026001360* -->\n<g id=\"edge7\" class=\"edge\">\n<title>140692026373072&#45;&gt;140692026001360*</title>\n<path fill=\"none\" stroke=\"#000000\" d=\"M180.3276,-34.4402C189.6986,-36.0939 198.7833,-37.6971 206.9937,-39.146\"/>\n<polygon fill=\"#000000\" stroke=\"#000000\" points=\"206.4256,-42.5997 216.8817,-40.8909 207.6421,-35.7062 206.4256,-42.5997\"/>\n</g>\n<!-- 140692026002192 -->\n<g id=\"node5\" class=\"node\">\n<title>140692026002192</title>\n<polygon fill=\"none\" stroke=\"#000000\" points=\"1223.5952,-54.5 1223.5952,-90.5 1402.5952,-90.5 1402.5952,-54.5 1223.5952,-54.5\"/>\n<text text-anchor=\"middle\" x=\"1269.5952\" y=\"-68.8\" font-family=\"Times,serif\" font-size=\"14.00\" fill=\"#000000\">data 56.0000</text>\n<polyline fill=\"none\" stroke=\"#000000\" points=\"1315.5952,-54.5 1315.5952,-90.5 \"/>\n<text text-anchor=\"middle\" x=\"1359.0952\" y=\"-68.8\" font-family=\"Times,serif\" font-size=\"14.00\" fill=\"#000000\">grad 1.0000</text>\n</g>\n<!-- 140692026002192+&#45;&gt;140692026002192 -->\n<g id=\"edge2\" class=\"edge\">\n<title>140692026002192+&#45;&gt;140692026002192</title>\n<path fill=\"none\" stroke=\"#000000\" d=\"M1187.8591,-72.5C1195.409,-72.5 1204.0701,-72.5 1213.2361,-72.5\"/>\n<polygon fill=\"#000000\" stroke=\"#000000\" points=\"1213.3518,-76.0001 1223.3517,-72.5 1213.3517,-69.0001 1213.3518,-76.0001\"/>\n</g>\n<!-- 140692026001680 -->\n<g id=\"node7\" class=\"node\">\n<title>140692026001680</title>\n<polygon fill=\"none\" stroke=\"#000000\" points=\"612,-54.5 612,-90.5 792,-90.5 792,-54.5 612,-54.5\"/>\n<text text-anchor=\"middle\" x=\"654.5\" y=\"-68.8\" font-family=\"Times,serif\" font-size=\"14.00\" fill=\"#000000\">data 7.0000</text>\n<polyline fill=\"none\" stroke=\"#000000\" points=\"697,-54.5 697,-90.5 \"/>\n<text text-anchor=\"middle\" x=\"744.5\" y=\"-68.8\" font-family=\"Times,serif\" font-size=\"14.00\" fill=\"#000000\">grad 15.0000</text>\n</g>\n<!-- 140692026001680&#45;&gt;140692026001936pow -->\n<g id=\"edge9\" class=\"edge\">\n<title>140692026001680&#45;&gt;140692026001936pow</title>\n<path fill=\"none\" stroke=\"#000000\" d=\"M792.0605,-86.0122C801.4088,-87.4148 810.4824,-88.7761 818.7014,-90.0093\"/>\n<polygon fill=\"#000000\" stroke=\"#000000\" points=\"818.2029,-93.4736 828.6116,-91.4962 819.2416,-86.5511 818.2029,-93.4736\"/>\n</g>\n<!-- 140692026001680&#45;&gt;140692026002192+ -->\n<g id=\"edge6\" class=\"edge\">\n<title>140692026001680&#45;&gt;140692026002192+</title>\n<path fill=\"none\" stroke=\"#000000\" d=\"M792.1557,-69.2905C804.2055,-68.9633 816.4019,-68.6841 828,-68.5 892.358,-67.4787 998.9924,-66.9242 1097.5952,-69.5 1105.9998,-69.7196 1115.0301,-70.0773 1123.5547,-70.4705\"/>\n<polygon fill=\"#000000\" stroke=\"#000000\" points=\"1123.4676,-73.9703 1133.626,-70.961 1123.8081,-66.9786 1123.4676,-73.9703\"/>\n</g>\n<!-- 140692026001680+ -->\n<g id=\"node8\" class=\"node\">\n<title>140692026001680+</title>\n<ellipse fill=\"none\" stroke=\"#000000\" cx=\"549\" cy=\"-72.5\" rx=\"27\" ry=\"18\"/>\n<text text-anchor=\"middle\" x=\"549\" y=\"-68.8\" font-family=\"Times,serif\" font-size=\"14.00\" fill=\"#000000\">+</text>\n</g>\n<!-- 140692026001680+&#45;&gt;140692026001680 -->\n<g id=\"edge3\" class=\"edge\">\n<title>140692026001680+&#45;&gt;140692026001680</title>\n<path fill=\"none\" stroke=\"#000000\" d=\"M576.0011,-72.5C583.6242,-72.5 592.3964,-72.5 601.6893,-72.5\"/>\n<polygon fill=\"#000000\" stroke=\"#000000\" points=\"601.9477,-76.0001 611.9477,-72.5 601.9476,-69.0001 601.9477,-76.0001\"/>\n</g>\n<!-- 140692026001168 -->\n<g id=\"node9\" class=\"node\">\n<title>140692026001168</title>\n<polygon fill=\"none\" stroke=\"#000000\" points=\"306,-82.5 306,-118.5 486,-118.5 486,-82.5 306,-82.5\"/>\n<text text-anchor=\"middle\" x=\"348.5\" y=\"-96.8\" font-family=\"Times,serif\" font-size=\"14.00\" fill=\"#000000\">data 3.0000</text>\n<polyline fill=\"none\" stroke=\"#000000\" points=\"391,-82.5 391,-118.5 \"/>\n<text text-anchor=\"middle\" x=\"438.5\" y=\"-96.8\" font-family=\"Times,serif\" font-size=\"14.00\" fill=\"#000000\">grad 15.0000</text>\n</g>\n<!-- 140692026001168&#45;&gt;140692026001680+ -->\n<g id=\"edge11\" class=\"edge\">\n<title>140692026001168&#45;&gt;140692026001680+</title>\n<path fill=\"none\" stroke=\"#000000\" d=\"M486.3276,-83.9695C495.6986,-82.2545 504.7833,-80.5919 512.9937,-79.0894\"/>\n<polygon fill=\"#000000\" stroke=\"#000000\" points=\"513.6752,-82.5229 522.8817,-77.2798 512.415,-75.6372 513.6752,-82.5229\"/>\n</g>\n<!-- 140692026001360 -->\n<g id=\"node10\" class=\"node\">\n<title>140692026001360</title>\n<polygon fill=\"none\" stroke=\"#000000\" points=\"306,-27.5 306,-63.5 486,-63.5 486,-27.5 306,-27.5\"/>\n<text text-anchor=\"middle\" x=\"348.5\" y=\"-41.8\" font-family=\"Times,serif\" font-size=\"14.00\" fill=\"#000000\">data 4.0000</text>\n<polyline fill=\"none\" stroke=\"#000000\" points=\"391,-27.5 391,-63.5 \"/>\n<text text-anchor=\"middle\" x=\"438.5\" y=\"-41.8\" font-family=\"Times,serif\" font-size=\"14.00\" fill=\"#000000\">grad 15.0000</text>\n</g>\n<!-- 140692026001360&#45;&gt;140692026001680+ -->\n<g id=\"edge5\" class=\"edge\">\n<title>140692026001360&#45;&gt;140692026001680+</title>\n<path fill=\"none\" stroke=\"#000000\" d=\"M486.3276,-61.4402C495.6986,-63.0939 504.7833,-64.6971 512.9937,-66.146\"/>\n<polygon fill=\"#000000\" stroke=\"#000000\" points=\"512.4256,-69.5997 522.8817,-67.8909 513.6421,-62.7062 512.4256,-69.5997\"/>\n</g>\n<!-- 140692026001360*&#45;&gt;140692026001360 -->\n<g id=\"edge4\" class=\"edge\">\n<title>140692026001360*&#45;&gt;140692026001360</title>\n<path fill=\"none\" stroke=\"#000000\" d=\"M270.0011,-45.5C277.6242,-45.5 286.3964,-45.5 295.6893,-45.5\"/>\n<polygon fill=\"#000000\" stroke=\"#000000\" points=\"295.9477,-49.0001 305.9477,-45.5 295.9476,-42.0001 295.9477,-49.0001\"/>\n</g>\n</g>\n</svg>\n"
          },
          "metadata": {},
          "execution_count": 72
        }
      ]
    },
    {
      "cell_type": "code",
      "source": [
        "# without referencing our code/video __too__ much, make this cell work\n",
        "# you'll have to implement (in some cases re-implemented) a number of functions\n",
        "# of the Value object, similar to what we've seen in the video.\n",
        "# instead of the squared error loss this implements the negative log likelihood\n",
        "# loss, which is very often used in classification.\n",
        "\n",
        "# this is the softmax function\n",
        "# https://en.wikipedia.org/wiki/Softmax_function\n",
        "def softmax(logits):\n",
        "  counts = [logit.exp() for logit in logits]\n",
        "  print(counts)\n",
        "  denominator = sum(counts)\n",
        "  out = [c / denominator for c in counts]\n",
        "  return out\n",
        "\n",
        "# this is the negative log likelihood loss function, pervasive in classification\n",
        "logits = [Value(0.0), Value(3.0), Value(-2.0), Value(1.0)]\n",
        "probs = softmax(logits)\n",
        "loss = -1*probs[3].log() # dim 3 acts as the label for this input example\n",
        "loss.backward()\n",
        "print(loss.data)\n",
        "# draw_dot(loss)\n",
        "ans = [0.041772570515350445, 0.8390245074625319, 0.005653302662216329, -0.8864503806400986]\n",
        "for dim in range(4):\n",
        "  ok = 'OK' if abs(logits[dim].grad - ans[dim]) < 1e-5 else 'WRONG!'\n",
        "  print(f\"{ok} for dim {dim}: expected {ans[dim]}, yours returns {logits[dim].grad}\")\n"
      ],
      "metadata": {
        "id": "VgWvwVQNAvnI",
        "colab": {
          "base_uri": "https://localhost:8080/"
        },
        "outputId": "77f4a75d-3865-4022-f622-10bb793929ee"
      },
      "execution_count": null,
      "outputs": [
        {
          "output_type": "stream",
          "name": "stdout",
          "text": [
            "[Value(data=1.0), Value(data=20.085536923187668), Value(data=0.1353352832366127), Value(data=2.718281828459045)]\n",
            "2.1755153626167147\n",
            "WRONG! for dim 0: expected 0.041772570515350445, yours returns 1.0\n",
            "WRONG! for dim 1: expected 0.8390245074625319, yours returns 20.085536923187668\n",
            "WRONG! for dim 2: expected 0.005653302662216329, yours returns 0.1353352832366127\n",
            "WRONG! for dim 3: expected -0.8864503806400986, yours returns 2.718281828459045\n"
          ]
        }
      ]
    },
    {
      "cell_type": "code",
      "source": [
        "# verify the gradient using the torch library\n",
        "# torch should give you the exact same gradient\n",
        "import torch\n"
      ],
      "metadata": {
        "id": "q7ca1SVAGG1S"
      },
      "execution_count": null,
      "outputs": []
    }
  ]
}